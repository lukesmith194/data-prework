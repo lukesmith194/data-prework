{
 "cells": [
  {
   "cell_type": "markdown",
   "metadata": {},
   "source": [
    "<img src=\"https://bit.ly/2VnXWr2\" width=\"100\" align=\"left\"/>"
   ]
  },
  {
   "cell_type": "markdown",
   "metadata": {},
   "source": [
    "# Robin Hood\n",
    "Robin Hood has entered a competition to win the archery contest in Sherwood. With his bow and arrows, he needs to shoot on a target and try to hit as close as possible to the center.\n",
    "\n",
    "![](images/arrows.jpg)\n",
    "\n",
    "## Context\n",
    "In this challenge, the landing position of arrows shot by archers in the competition will be represented using 2-dimensional coordinates. \n",
    "\n",
    "In the 2-dimensional space, a point can be defined by a pair of values that correspond to the horizontal coordinate (x) and the vertical coordinate (y). For example, in our case, an arrow that hits the center of the archery target will land in position (0, 0) on the coordinate axes. \n",
    "\n",
    "The space can be divided into 4 zones (quadrants): Q1, Q2, Q3, Q4. If a point is in Q1, both its x coordinate and y coordinate are positive. Any point with a null x or y coordinate is considered to not belong to any quadrant. \n",
    "\n",
    "If you want to know more about the cartesian coordinate system, you can check this [link](https://en.wikipedia.org/wiki/Cartesian_coordinate_system). \n",
    "\n",
    "## Tools\n",
    "You don't necessarily need to use all the tools. Maybe you opt to use some of them or completely different ones, they are given to help you shape the exercise. Programming exercises can be solved in many different ways.\n",
    "* Data structures: **lists, sets, tuples**\n",
    "* Conditional statements: **if-elif-else**\n",
    "* Loop: **while/for**\n",
    "* Minimum (optional sorting)\n",
    "\n",
    "## Tasks\n",
    "Robin Hood has hit the following points:"
   ]
  },
  {
   "cell_type": "code",
   "execution_count": 1,
   "metadata": {},
   "outputs": [],
   "source": [
    "points = [(4, 5), (-0, 2), (4, 7), (1, -3), (3, -2), (4, 5), (3, 2), (5, 7), (-5, 7), (2, 2), (-4, 5), (0, -2),\n",
    "          (-4, 7), (-1, 3), (-3, 2), (-4, -5), (-3, 2), (5, 7), (5, 7), (2, 2), (9, 9), (-8, -9)]"
   ]
  },
  {
   "cell_type": "markdown",
   "metadata": {},
   "source": [
    "#### 1. Robin Hood is famous for hitting an arrow with another arrow. Find the coordinates of the points where an arrow hits another arrow."
   ]
  },
  {
   "cell_type": "code",
   "execution_count": 2,
   "metadata": {},
   "outputs": [
    {
     "name": "stdout",
     "output_type": "stream",
     "text": [
      "common coordinates are: [(-3, 2), (4, 5), (5, 7), (2, 2)]\n"
     ]
    }
   ],
   "source": [
    "points = [(4, 5), (-0, 2), (4, 7), (1, -3), (3, -2), (4, 5), (3, 2), (5, 7), (-5, 7), (2, 2), (-4, 5), (0, -2),\n",
    "          (-4, 7), (-1, 3), (-3, 2), (-4, -5), (-3, 2), (5, 7), (5, 7), (2, 2), (9, 9), (-8, -9)]\n",
    "\n",
    "arrow_hit_arrow = []\n",
    "\n",
    "points.sort()\n",
    "\n",
    "\n",
    "for a in points:\n",
    "    count = 0\n",
    "    for b in points:\n",
    "        if a == b:\n",
    "            count += 1\n",
    "        if count > 1 :\n",
    "            arrow_hit_arrow.append(a)\n",
    "    \n",
    "arrow_hit_arrow = list(set(arrow_hit_arrow))\n",
    "\n",
    "print(\"common coordinates are:\", arrow_hit_arrow)"
   ]
  },
  {
   "cell_type": "markdown",
   "metadata": {},
   "source": [
    "#### 2. Calculate how many arrows have fallen in each quadrant. \n",
    "**Note**: the arrows that fall in the axis (x=0 or y=0) don't belong to any quadrant."
   ]
  },
  {
   "cell_type": "code",
   "execution_count": 3,
   "metadata": {},
   "outputs": [
    {
     "name": "stdout",
     "output_type": "stream",
     "text": [
      "10 are the amount of arrows fallen in this quadrant\n",
      "6 are the amount of arrows fallen in this quadrant\n",
      "2 are the amount of arrows fallen in this quadrant\n",
      "2 are the amount of arrows fallen in this quadrant\n"
     ]
    }
   ],
   "source": [
    "points = [(4, 5), (-0, 2), (4, 7), (1, -3), (3, -2), (4, 5), (3, 2), (5, 7), (-5, 7), (2, 2), (-4, 5), (0, -2),\n",
    "          (-4, 7), (-1, 3), (-3, 2), (-4, -5), (-3, 2), (5, 7), (5, 7), (2, 2), (9, 9), (-8, -9)]\n",
    "points.sort()\n",
    "#print(points)\n",
    "Q1=0\n",
    "Q2=0\n",
    "Q3=0\n",
    "Q4=0\n",
    "\n",
    "for x  in points:\n",
    "    if x[0]>0 and x[1] > 0:\n",
    "            Q1 += 1\n",
    "    elif x[0]<0 and x[1] > 0:\n",
    "            Q2 += 1\n",
    "    elif x[0]<0 and x[1] < 0:\n",
    "            Q3 += 1\n",
    "    elif x[0]>0 and x[1] < 0:\n",
    "            Q4 += 1\n",
    "    else:\n",
    "        continue\n",
    "    \n",
    "print(Q1, \"are the amount of arrows fallen in this quadrant\")\n",
    "print(Q2, \"are the amount of arrows fallen in this quadrant\")\n",
    "print(Q3, \"are the amount of arrows fallen in this quadrant\")\n",
    "print(Q4, \"are the amount of arrows fallen in this quadrant\")\n",
    "        \n",
    "            \n",
    "        \n",
    "    \n",
    "    "
   ]
  },
  {
   "cell_type": "markdown",
   "metadata": {},
   "source": [
    "#### 3. Find the point closest to the center. Calculate its distance to the center. \n",
    "Take into account that there might be more than one point at the minimum distance to the center.\n",
    "\n",
    "**Hint**: Use the Euclidean distance. You can find more information about it [here](https://en.wikipedia.org/wiki/Euclidean_distance).  \n",
    "**Hint**: Defining a function that calculates the distance to the center can help."
   ]
  },
  {
   "cell_type": "code",
   "execution_count": 4,
   "metadata": {},
   "outputs": [
    {
     "name": "stdout",
     "output_type": "stream",
     "text": [
      "The closest point to (0, 0) is (0, -2) with a distance of 2.0\n"
     ]
    }
   ],
   "source": [
    "import math\n",
    "\n",
    "points = [(4, 5), (-0, 2), (4, 7), (1, -3), (3, -2), (4, 5), (3, 2), (5, 7), (-5, 7), (2, 2), (-4, 5), (0, -2),\n",
    "          (-4, 7), (-1, 3), (-3, 2), (-4, -5), (-3, 2), (5, 7), (5, 7), (2, 2), (9, 9), (-8, -9)]\n",
    "origen = (0,0)\n",
    "\n",
    "\n",
    "def distancia_euclidea(origen, point):\n",
    "    interior = (origen[0] - point[0]) ** 2 + (origen[1] - point[1]) ** 2\n",
    "    return math.sqrt(interior)\n",
    "\n",
    "\n",
    "def closest_to_origin(origen, points):\n",
    "    distancias_puntos = []\n",
    "    for point in points:\n",
    "        distancia = distancia_euclidea(origen, point)\n",
    "        distancias_puntos.append((distancia, point))\n",
    "    return min(distancias_puntos)\n",
    "\n",
    "\n",
    "punto_mas_cerano = closest_to_origin(origen, points)\n",
    "print(f\"The closest point to {origen} is {punto_mas_cerano[1]} with a distance of {round(punto_mas_cerano[0], 2)}\")\n",
    "\n",
    "\n",
    "\n",
    "\n",
    "\n",
    "        \n",
    "\n",
    "\n"
   ]
  },
  {
   "cell_type": "markdown",
   "metadata": {},
   "source": [
    "#### 4. If the archery target has a radius of 9, calculate the number of arrows that won't hit the target. \n",
    "**Hint**: Use the function created in step 3. "
   ]
  },
  {
   "cell_type": "code",
   "execution_count": 5,
   "metadata": {},
   "outputs": [
    {
     "name": "stdout",
     "output_type": "stream",
     "text": [
      "There are 2 arrows out of the radius\n"
     ]
    }
   ],
   "source": [
    "\n",
    "import math\n",
    "\n",
    "points = [(4, 5), (-0, 2), (4, 7), (1, -3), (3, -2), (4, 5), (3, 2), (5, 7), (-5, 7), (2, 2), (-4, 5), (0, -2),\n",
    "          (-4, 7), (-1, 3), (-3, 2), (-4, -5), (-3, 2), (5, 7), (5, 7), (2, 2), (9, 9), (-8, -9)]\n",
    "origen = (0,0)\n",
    "\n",
    "\n",
    "def distancia_euclidea(origen, point):\n",
    "    interior = (origen[0] - point[0]) ** 2 + (origen[1] - point[1]) ** 2\n",
    "    return math.sqrt(interior)\n",
    "out_of_range = 0\n",
    "for point in points:\n",
    "    distancia = distancia_euclidea(origen, point)\n",
    "    if distancia > 9:\n",
    "        out_of_range += 1\n",
    "print(f\"There are {out_of_range} arrows out of the radius\")"
   ]
  }
 ],
 "metadata": {
  "kernelspec": {
   "display_name": "Python 3",
   "language": "python",
   "name": "python3"
  },
  "language_info": {
   "codemirror_mode": {
    "name": "ipython",
    "version": 3
   },
   "file_extension": ".py",
   "mimetype": "text/x-python",
   "name": "python",
   "nbconvert_exporter": "python",
   "pygments_lexer": "ipython3",
   "version": "3.8.8"
  }
 },
 "nbformat": 4,
 "nbformat_minor": 2
}
